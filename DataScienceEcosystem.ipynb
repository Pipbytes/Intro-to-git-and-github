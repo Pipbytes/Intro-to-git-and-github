{
  "cells": [
    {
      "cell_type": "markdown",
      "metadata": {
        "id": "view-in-github",
        "colab_type": "text"
      },
      "source": [
        "<a href=\"https://colab.research.google.com/github/Pipbytes/Intro-to-git-and-github/blob/main/DataScienceEcosystem.ipynb\" target=\"_parent\"><img src=\"https://colab.research.google.com/assets/colab-badge.svg\" alt=\"Open In Colab\"/></a>"
      ]
    },
    {
      "cell_type": "markdown",
      "source": [
        "# Data Science Tools and Ecosystem"
      ],
      "metadata": {
        "id": "56ySAdW8rIgn"
      }
    },
    {
      "cell_type": "markdown",
      "source": [
        "In this notebook, Data Science Tools and Ecosystems are summarized"
      ],
      "metadata": {
        "id": "aEth1zeFrRO-"
      }
    },
    {
      "cell_type": "markdown",
      "source": [
        "Some of the most popular languages that Data Scientists use are:\n",
        "\n",
        "1.   Python\n",
        "2.   SQL\n",
        "3.   R\n",
        "\n"
      ],
      "metadata": {
        "id": "rZ2DZvM5rgQd"
      }
    },
    {
      "cell_type": "markdown",
      "source": [
        "Some of the commonly used libraries used by Data Scientists include:\n",
        "\n",
        "1. Numpy\n",
        "2. Pandas\n",
        "3. Matplotlib.pyploy\n",
        "4. Seaborn\n",
        "5. Scikit-learn"
      ],
      "metadata": {
        "id": "HJpiqb4RryS9"
      }
    },
    {
      "cell_type": "markdown",
      "source": [
        "| Data Science Tools |\n",
        "|---|\n",
        "|Jupyter Notebook|\n",
        "|RStudio|\n",
        "|Apache Zepplin|"
      ],
      "metadata": {
        "id": "2anHRkgBtEL_"
      }
    },
    {
      "cell_type": "markdown",
      "source": [
        "### Below are a few examples of evaluating arithmetic expressions in Python"
      ],
      "metadata": {
        "id": "LYAZrIbvtgNH"
      }
    },
    {
      "cell_type": "code",
      "source": [
        "# This is a simple arithmetic expression to multiply then add integers\n",
        "(3*4)+5"
      ],
      "metadata": {
        "colab": {
          "base_uri": "https://localhost:8080/"
        },
        "id": "imTbVpiCvD5w",
        "outputId": "4b0819c3-c326-4699-9656-eae84cab39d4"
      },
      "execution_count": null,
      "outputs": [
        {
          "output_type": "execute_result",
          "data": {
            "text/plain": [
              "17"
            ]
          },
          "metadata": {},
          "execution_count": 1
        }
      ]
    },
    {
      "cell_type": "code",
      "source": [
        "# This will convert 200 minutes to hours by dividing by 60\n",
        "200/60"
      ],
      "metadata": {
        "colab": {
          "base_uri": "https://localhost:8080/"
        },
        "id": "LXDVsvkDvSrx",
        "outputId": "70474f4b-96ef-4646-f432-80834fb1e036"
      },
      "execution_count": null,
      "outputs": [
        {
          "output_type": "execute_result",
          "data": {
            "text/plain": [
              "3.3333333333333335"
            ]
          },
          "metadata": {},
          "execution_count": 2
        }
      ]
    },
    {
      "cell_type": "markdown",
      "source": [
        "**Objective**\n",
        "\n",
        "* Popular languages for Data Science\n",
        "* Familiar with Data Science tool kit\n",
        "* Work with IDE such as JupyterLab, RStudio\n"
      ],
      "metadata": {
        "id": "PgP5E0Fswpe1"
      }
    },
    {
      "cell_type": "markdown",
      "source": [
        "## Author\n",
        "\n",
        "Han Xian\n"
      ],
      "metadata": {
        "id": "ayu2JaNCyUzO"
      }
    }
  ],
  "metadata": {
    "kernelspec": {
      "display_name": "Python 3",
      "name": "python3"
    },
    "language_info": {
      "name": "python"
    },
    "colab": {
      "provenance": [],
      "include_colab_link": true
    }
  },
  "nbformat": 4,
  "nbformat_minor": 0
}